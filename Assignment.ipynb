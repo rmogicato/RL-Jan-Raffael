{
 "cells": [
  {
   "cell_type": "markdown",
   "id": "25d82fdd",
   "metadata": {},
   "source": [
    "# Assignment"
   ]
  },
  {
   "cell_type": "code",
   "execution_count": 1,
   "id": "b44c65d8",
   "metadata": {},
   "outputs": [],
   "source": [
    "# Import \n",
    "\n",
    "import numpy as np\n",
    "import numpy.matlib\n",
    "import matplotlib.pyplot as plt\n",
    "from degree_freedom_queen import *\n",
    "from degree_freedom_king1 import *\n",
    "from degree_freedom_king2 import *\n",
    "from generate_game import *\n",
    "from Chess_env import *\n",
    "from tqdm.notebook import tqdm\n",
    "import pandas as pd\n",
    "\n",
    "size_board = 4"
   ]
  },
  {
   "cell_type": "markdown",
   "id": "292e71cb",
   "metadata": {},
   "source": [
    "## The Environment\n",
    "\n",
    "You can find the environment in the file Chess_env, which contains the class Chess_env. To define an object, you need to provide the board size considered as input. In our example, size_board=4. \n",
    "Chess_env is composed by the following methods:\n",
    "\n",
    "1. Initialise_game. The method initialises an episode by placing the three pieces considered (Agent's king and queen, enemy's king) in the chess board. The outputs of the method are described below in order.\n",
    "\n",
    "     S $\\;$ A matrix representing the board locations filled with 4 numbers: 0, no piece in that position; 1, location of the \n",
    "     agent's king; 2 location of the queen; 3 location of the enemy king.\n",
    "     \n",
    "     X $\\;$ The features, that is the input to the neural network. See the assignment for more information regarding the            definition of the features adopted. To personalise this, go into the Features method of the class Chess_env() and change        accordingly.\n",
    "     \n",
    "     allowed_a $\\;$ The allowed actions that the agent can make. The agent is moving a king, with a total number of 8                possible actions, and a queen, with a total number of $(board_{size}-1)\\times 8$ actions. The total number of possible actions correspond      to the sum of the two, but not all actions are allowed in a given position (movements to locations outside the borders or      against chess rules). Thus, the variable allowed_a is a vector that is one (zero) for an action that the agent can (can't)      make. Be careful, apply the policy considered on the actions that are allowed only.\n",
    "     \n",
    "\n",
    "2. OneStep. The method performs a one step update of the system. Given as input the action selected by the agent, it updates the chess board by performing that action and the response of the enemy king (which is a random allowed action in the settings considered). The first three outputs are the same as for the Initialise_game method, but the variables are computed for the position reached after the update of the system. The fourth and fifth outputs are:\n",
    "\n",
    "     R $\\;$ The reward. To change this, look at the OneStep method of the class where the rewards are set.\n",
    "     \n",
    "     Done $\\;$ A variable that is 1 if the episode has ended (checkmate or draw).\n",
    "     \n",
    "     \n",
    "3. Features. Given the chessboard position, the method computes the features.\n",
    "\n",
    "This information and a quick analysis of the class should be all you need to get going. The other functions that the class exploits are uncommented and constitute an example on how not to write a python code. You can take a look at them if you want, but it is not necessary.\n",
    "\n",
    "\n",
    "\n",
    "\n"
   ]
  },
  {
   "cell_type": "code",
   "execution_count": 2,
   "id": "fff253ba",
   "metadata": {},
   "outputs": [],
   "source": [
    "## INITIALISE THE ENVIRONMENT\n",
    "env=Chess_Env(size_board)"
   ]
  },
  {
   "cell_type": "code",
   "execution_count": 3,
   "id": "c0a80a03",
   "metadata": {},
   "outputs": [
    {
     "name": "stdout",
     "output_type": "stream",
     "text": [
      "[[3 0 0 0]\n",
      " [0 0 0 2]\n",
      " [0 0 0 0]\n",
      " [0 1 0 0]]\n",
      "check?  0\n",
      "dofk2  1\n",
      "\n",
      "[[0 3 0 0]\n",
      " [0 0 0 2]\n",
      " [0 0 0 0]\n",
      " [1 0 0 0]]\n",
      "0  0\n",
      "check?  0\n",
      "dofk2  1\n",
      "\n",
      "[[3 0 0 0]\n",
      " [0 0 0 2]\n",
      " [0 0 0 0]\n",
      " [0 1 0 0]]\n",
      "0  0\n",
      "check?  0\n",
      "dofk2  1\n",
      "\n",
      "[[0 3 0 0]\n",
      " [0 0 0 0]\n",
      " [0 0 0 0]\n",
      " [0 1 0 2]]\n",
      "0  0\n",
      "check?  0\n",
      "dofk2  3\n",
      "\n",
      "[[0 0 3 0]\n",
      " [0 0 0 0]\n",
      " [0 0 0 2]\n",
      " [0 1 0 0]]\n",
      "0  0\n",
      "check?  0\n",
      "dofk2  1\n",
      "\n",
      "[[0 0 0 0]\n",
      " [0 0 0 3]\n",
      " [0 0 0 0]\n",
      " [0 1 2 0]]\n",
      "0  0\n",
      "check?  0\n",
      "dofk2  1\n"
     ]
    }
   ],
   "source": [
    "## PRINT 5 STEPS OF AN EPISODE CONSIDERING A RANDOM AGENT\n",
    "\n",
    "S,X,allowed_a=env.Initialise_game()                       # INTIALISE GAME\n",
    "\n",
    "print(S)                                                  # PRINT CHESS BOARD (SEE THE DESCRIPTION ABOVE)\n",
    "\n",
    "print('check? ',env.check)                                # PRINT VARIABLE THAT TELLS IF ENEMY KING IS IN CHECK (1) OR NOT (0)\n",
    "print('dofk2 ',np.sum(env.dfk2_constrain).astype(int))    # PRINT THE NUMBER OF LOCATIONS THAT THE ENEMY KING CAN MOVE TO\n",
    "\n",
    "\n",
    "for i in range(5):\n",
    "    \n",
    "    a,_=np.where(allowed_a==1)                  # FIND WHAT THE ALLOWED ACTIONS ARE\n",
    "    a_agent=np.random.permutation(a)[0]         # MAKE A RANDOM ACTION\n",
    "\n",
    "    S,X,allowed_a,R,Done=env.OneStep(a_agent)   # UPDATE THE ENVIRONMENT\n",
    "    \n",
    "    \n",
    "    ## PRINT CHESS BOARD AND VARIABLES\n",
    "    print('')\n",
    "    print(S)\n",
    "    print(R,'', Done)\n",
    "    print('check? ',env.check)\n",
    "    print('dofk2 ',np.sum(env.dfk2_constrain).astype(int))\n",
    "    \n",
    "    \n",
    "    # TERMINATE THE EPISODE IF Done=True (DRAW OR CHECKMATE)\n",
    "    if Done:\n",
    "        break\n",
    "        \n"
   ]
  },
  {
   "cell_type": "code",
   "execution_count": 4,
   "id": "13bb451d",
   "metadata": {},
   "outputs": [
    {
     "data": {
      "application/vnd.jupyter.widget-view+json": {
       "model_id": "1d0974ad8a46448da0359aef6871c7a3",
       "version_major": 2,
       "version_minor": 0
      },
      "text/plain": [
       "  0%|          | 0/1000 [00:00<?, ?it/s]"
      ]
     },
     "metadata": {},
     "output_type": "display_data"
    },
    {
     "name": "stdout",
     "output_type": "stream",
     "text": [
      "Random_Agent, Average reward: 0.203 Number of steps:  7.378\n"
     ]
    }
   ],
   "source": [
    "# PERFORM N_episodes=1000 EPISODES MAKING RANDOM ACTIONS AND COMPUTE THE AVERAGE REWARD AND NUMBER OF MOVES \n",
    "\n",
    "S,X,allowed_a=env.Initialise_game()\n",
    "N_episodes=1000\n",
    "\n",
    "# VARIABLES WHERE TO SAVE THE FINAL REWARD IN AN EPISODE AND THE NUMBER OF MOVES \n",
    "R_save_random = np.zeros([N_episodes, 1])\n",
    "N_moves_save_random = np.zeros([N_episodes, 1])\n",
    "\n",
    "for n in tqdm(range(N_episodes)):\n",
    "    \n",
    "    S,X,allowed_a=env.Initialise_game()     # INITIALISE GAME\n",
    "    Done=0                                  # SET Done=0 AT THE BEGINNING\n",
    "    i=1                                     # COUNTER FOR THE NUMBER OF ACTIONS (MOVES) IN AN EPISODE\n",
    "    \n",
    "    # UNTIL THE EPISODE IS NOT OVER...(Done=0)\n",
    "    while Done==0:\n",
    "        \n",
    "        # SAME AS THE CELL BEFORE, BUT SAVING THE RESULTS WHEN THE EPISODE TERMINATES \n",
    "        \n",
    "        a,_=np.where(allowed_a==1)\n",
    "        a_agent=np.random.permutation(a)[0]\n",
    "\n",
    "        S,X,allowed_a,R,Done=env.OneStep(a_agent)\n",
    "        \n",
    "        \n",
    "        if Done:\n",
    "            \n",
    "            R_save_random[n]=np.copy(R)\n",
    "            N_moves_save_random[n]=np.copy(i)\n",
    "\n",
    "            break\n",
    "\n",
    "        i=i+1                               # UPDATE THE COUNTER\n",
    "\n",
    "\n",
    "\n",
    "# AS YOU SEE, THE PERFORMANCE OF A RANDOM AGENT ARE NOT GREAT, SINCE THE MAJORITY OF THE POSITIONS END WITH A DRAW \n",
    "# (THE ENEMY KING IS NOT IN CHECK AND CAN'T MOVE)\n",
    "\n",
    "print('Random_Agent, Average reward:',np.mean(R_save_random),'Number of steps: ',np.mean(N_moves_save_random))\n",
    "\n"
   ]
  },
  {
   "cell_type": "code",
   "execution_count": 17,
   "id": "41934dfc",
   "metadata": {
    "scrolled": true
   },
   "outputs": [],
   "source": [
    "# INITIALISE THE PARAMETERS OF YOUR NEURAL NETWORK AND...\n",
    "# PLEASE CONSIDER TO USE A MASK OF ONE FOR THE ACTION MADE AND ZERO OTHERWISE IF YOU ARE NOT USING VANILLA GRADIENT DESCENT...\n",
    "# WE SUGGEST A NETWORK WITH ONE HIDDEN LAYER WITH SIZE 200. \n",
    "from math import sqrt\n",
    "from numpy.random import rand\n",
    "\n",
    "\n",
    "S,X,allowed_a=env.Initialise_game()\n",
    "N_a = np.shape(allowed_a)[0]   # TOTAL NUMBER OF POSSIBLE ACTIONS\n",
    "\n",
    "N_in = np.shape(X)[0]    ## INPUT SIZE\n",
    "N_h = 200                ## NUMBER OF HIDDEN NODES\n",
    "\n",
    "\n",
    "## INITALISE YOUR NEURAL NETWORK...\n",
    "def reset_network():\n",
    "    numpy.random.seed(420)\n",
    "    Xavier_init=False\n",
    "    if Xavier_init:       \n",
    "        W1 = np.random.randn(N_h, N_in) * np.sqrt(1 / (N_in))\n",
    "        W2 = np.random.randn(N_a, N_h) * np.sqrt(1 / (N_h))\n",
    "    else:\n",
    "        W1 = np.random.uniform(0,1,(N_h, N_in))\n",
    "        W2 = np.random.uniform(0,1,(N_a, N_h))\n",
    "        W1 = np.divide(W1,np.matlib.repmat(np.sum(W1,1)[:,None],1,N_in))\n",
    "        W2 = np.divide(W2,np.matlib.repmat(np.sum(W2,1)[:,None],1,N_h))\n",
    "    bias_W1 = np.zeros((N_h,))\n",
    "    bias_W2 = np.zeros((N_a,))\n",
    "    return W1, W2, bias_W1, bias_W2\n",
    "\n",
    "W1, W2, bias_W1, bias_W2 = reset_network()\n",
    "\n",
    "# HYPERPARAMETERS SUGGESTED (FOR A GRID SIZE OF 4)\n",
    "\n",
    "epsilon_0 = 0.2     # STARTING VALUE OF EPSILON FOR THE EPSILON-GREEDY POLICY\n",
    "beta = 0.00005      # THE PARAMETER SETS HOW QUICKLY THE VALUE OF EPSILON IS DECAYING (SEE epsilon_f BELOW)\n",
    "gamma = 0.85        # THE DISCOUNT FACTOR\n",
    "eta = 0.0035        # THE LEARNING RATE\n",
    "\n",
    "N_episodes = 5000 # THE NUMBER OF GAMES TO BE PLAYED \n",
    "\n",
    "# SAVING VARIABLES\n",
    "R_save = np.zeros(N_episodes)\n",
    "N_moves_save = np.zeros(N_episodes)\n",
    "\n",
    "def predict(x0, W1, W2, bias_W1, bias_W2):\n",
    "    h1 = np.dot(W1, x0) + bias_W1\n",
    "    x1 = 1 / (1 + np.exp(-h1))\n",
    "    # x1 = np.maximum(h1, 0)\n",
    "    h2 = np.dot(W2, x1) + bias_W2\n",
    "    x2 = 1 / (1 + np.exp(-h2))\n",
    "    # x2 = np.maximum(h2, 0)\n",
    "    return x1, x2\n",
    "\n",
    "def backprop(R, qn, q, a, x0, x1, W1, W2, bias_W1, bias_W2):\n",
    "    delta2 = q*(1-q) * (qn - q)\n",
    "    dW2 = np.outer(delta2, x1)\n",
    "    delta1 = x1*(1-x1) * np.dot(W2.T, delta2)\n",
    "    dW1 = np.outer(delta1, x0)\n",
    "    \n",
    "    W1 += eta * dW1\n",
    "    W2 += eta * dW2\n",
    "    bias_W1 += eta * delta1\n",
    "    bias_W2 += eta * delta2\n",
    "    \n",
    "    return W1, W2, bias_W1, bias_W2\n",
    "\n",
    "\n",
    "## reward of ~0.5 after 1000 episodes\n",
    "def backprop_raf(R, qn, q, a, x0, x1, W1, W2, bias_W1, bias_W2):\n",
    "    target = q + eta*(R+gamma*np.max(qn)-q)\n",
    "    delta2 = q-target\n",
    "    dW2 = np.outer(delta2, x1)\n",
    "    delta1 = x1*(1-x1) * np.dot(W2.T, delta2)\n",
    "    dW1 = np.outer(delta1, x0)\n",
    "    \n",
    "    W1 += eta * dW1\n",
    "    W2 += eta * dW2\n",
    "    bias_W1 += eta * delta1\n",
    "    bias_W2 += eta * delta2\n",
    "    \n",
    "    return W1, W2, bias_W1, bias_W2"
   ]
  },
  {
   "cell_type": "code",
   "execution_count": null,
   "id": "8ce835ab",
   "metadata": {},
   "outputs": [
    {
     "data": {
      "application/vnd.jupyter.widget-view+json": {
       "model_id": "cc4478eae7ea421fb0d3b7a05af9e680",
       "version_major": 2,
       "version_minor": 0
      },
      "text/plain": [
       "  0%|          | 0/5000 [00:00<?, ?it/s]"
      ]
     },
     "metadata": {},
     "output_type": "display_data"
    }
   ],
   "source": [
    "# Q Learning implementation\n",
    "\n",
    "W1, W2, bias_W1, bias_W2 = reset_network()\n",
    "\n",
    "for n in tqdm(range(N_episodes)):\n",
    "\n",
    "    epsilon_f = epsilon_0 / (1 + beta * n)   ## DECAYING EPSILON\n",
    "    Done = 0                                 ## SET DONE TO ZERO (BEGINNING OF THE EPISODE)\n",
    "    i = 1                                    ## COUNTER FOR NUMBER OF ACTIONS\n",
    "    R = 0\n",
    "    \n",
    "    _, X, allowed_a = env.Initialise_game()  ## INITIALISE GAME\n",
    "    \n",
    "    while not Done:                          ## START THE EPISODE\n",
    "        \n",
    "        x1, q = predict(X, W1, W2, bias_W1, bias_W2)\n",
    "        \n",
    "        if np.random.random() < epsilon_f:\n",
    "            possible_as = np.where(allowed_a==1)[0]\n",
    "            a = np.random.permutation(possible_as)[0]\n",
    "        else:\n",
    "            a = np.argmax(q * allowed_a.flatten())\n",
    "        \n",
    "        _, Xn, allowed_an, R, Done = env.OneStep(a)\n",
    "        \n",
    "        if Done:\n",
    "            R_save[n] = R\n",
    "            N_moves_save[n] = i\n",
    "            qn = q\n",
    "            qn[a] = R\n",
    "            W1, W2, bias_W1, bias_W2 = backprop_raf(R, qn, q, a, X, x1, W1, W2, bias_W1, bias_W2)\n",
    "            break\n",
    "        \n",
    "        _, q1 = predict(Xn, W1, W2, bias_W1, bias_W2)\n",
    "        \n",
    "        W1, W2, bias_W1, bias_W2 = backprop_raf(R, q1, q, a, X, x1, W1, W2, bias_W1, bias_W2)\n",
    "            \n",
    "        # NEXT STATE AND CO. BECOME ACTUAL STATE...     \n",
    "        X = Xn\n",
    "        allowed_a = allowed_an\n",
    "        \n",
    "        i += 1  # UPDATE COUNTER FOR NUMBER OF ACTIONS"
   ]
  },
  {
   "cell_type": "code",
   "execution_count": null,
   "id": "33ea9621",
   "metadata": {},
   "outputs": [],
   "source": [
    "def backprop_SARSA(R, qn, q, a, x0, x1, W1, W2, bias_W1, bias_W2):\n",
    "    target = q + eta*(R+gamma*np.max(q)-q)\n",
    "    delta2 = q-target\n",
    "    dW2 = np.outer(delta2, x1)\n",
    "    delta1 = x1*(1-x1) * np.dot(W2.T, delta2)\n",
    "    dW1 = np.outer(delta1, x0)\n",
    "    \n",
    "    W1 += eta * dW1\n",
    "    W2 += eta * dW2\n",
    "    bias_W1 += eta * delta1\n",
    "    bias_W2 += eta * delta2\n",
    "    \n",
    "    return W1, W2, bias_W1, bias_W2"
   ]
  },
  {
   "cell_type": "code",
   "execution_count": null,
   "id": "2e377438",
   "metadata": {},
   "outputs": [],
   "source": [
    "# SARSA Implementation\n",
    "W1, W2, bias_W1, bias_W2 = reset_network()\n",
    "R_save_SARSA = np.zeros(N_episodes)\n",
    "N_moves_save_SARSA = np.zeros(N_episodes)\n",
    "\n",
    "for n in tqdm(range(N_episodes)):\n",
    "\n",
    "    epsilon_f = epsilon_0 / (1 + beta * n)   ## DECAYING EPSILON\n",
    "    Done = 0                                 ## SET DONE TO ZERO (BEGINNING OF THE EPISODE)\n",
    "    i = 1                                    ## COUNTER FOR NUMBER OF ACTIONS\n",
    "    R = 0\n",
    "    \n",
    "    _, X, allowed_a = env.Initialise_game()  ## INITIALISE GAME\n",
    "    \n",
    "    x1, q = predict(X, W1, W2, bias_W1, bias_W2)\n",
    "    \n",
    "    while not Done:                          ## START THE EPISODE\n",
    "\n",
    "        if np.random.random() < epsilon_f:\n",
    "            possible_as = np.where(allowed_a==1)[0]\n",
    "            a = np.random.permutation(possible_as)[0]\n",
    "        else:\n",
    "            a = np.argmax(q * allowed_a.flatten()) #choose action with highest q value\n",
    "        \n",
    "        _, Xn, allowed_an, R, Done = env.OneStep(a) # take action, get new State\n",
    "        \n",
    "        if Done:\n",
    "            R_save_SARSA[n] = R\n",
    "            N_moves_save_SARSA[n] = i\n",
    "            qn = q\n",
    "            qn[a] = R\n",
    "            W1, W2, bias_W1, bias_W2 = backprop_SARSA(R, qn, q, a, X, x1, W1, W2, bias_W1, bias_W2)\n",
    "            break\n",
    "        \n",
    "        _, q1 = predict(Xn, W1, W2, bias_W1, bias_W2)\n",
    "        \n",
    "        W1, W2, bias_W1, bias_W2 = backprop_SARSA(R, q1, q, a, X, x1, W1, W2, bias_W1, bias_W2)\n",
    "            \n",
    "        # NEXT STATE AND CO. BECOME ACTUAL STATE...     \n",
    "        X = Xn\n",
    "        allowed_a = allowed_an\n",
    "        \n",
    "        i += 1  # UPDATE COUNTER FOR NUMBER OF ACTIONS"
   ]
  },
  {
   "cell_type": "code",
   "execution_count": 27,
   "id": "4fe0c6fa",
   "metadata": {},
   "outputs": [
    {
     "data": {
      "text/plain": [
       "(0.6458, 27.7022)"
      ]
     },
     "execution_count": 27,
     "metadata": {},
     "output_type": "execute_result"
    }
   ],
   "source": [
    "np.mean(R_save), np.mean(N_moves_save)"
   ]
  },
  {
   "cell_type": "code",
   "execution_count": 31,
   "id": "1e315fa9",
   "metadata": {},
   "outputs": [
    {
     "data": {
      "image/png": "[encoded data removed]",
      "text/plain": [
       "<Figure size 432x288 with 1 Axes>"
      ]
     },
     "metadata": {
      "needs_background": "light"
     },
     "output_type": "display_data"
    }
   ],
   "source": [
    "plt.figure()\n",
    "plt.plot(pd.DataFrame(R_save).ewm(span=N_episodes).mean())\n",
    "plt.plot(pd.DataFrame(R_save_SARSA).ewm(span=N_episodes).mean())\n",
    "plt.legend([\"Q-learning\", \"SARSA\"])\n",
    "plt.xlabel('Episode Number')\n",
    "plt.ylabel('Reward')\n",
    "plt.show()"
   ]
  },
  {
   "cell_type": "code",
   "execution_count": 30,
   "id": "a8a3c745",
   "metadata": {},
   "outputs": [
    {
     "data": {
      "image/png": "[encoded data removed]",
      "text/plain": [
       "<Figure size 432x288 with 1 Axes>"
      ]
     },
     "metadata": {
      "needs_background": "light"
     },
     "output_type": "display_data"
    }
   ],
   "source": [
    "plt.figure()\n",
    "plt.plot(pd.DataFrame(N_moves_save).ewm(span=N_episodes).mean())\n",
    "plt.plot(pd.DataFrame(N_moves_save_SARSA).ewm(span=N_episodes).mean())\n",
    "plt.legend([\"Q-learning\", \"SARSA\"])\n",
    "plt.xlabel('Episode Number')\n",
    "plt.ylabel('Actions')\n",
    "plt.show()"
   ]
  },
  {
   "cell_type": "code",
   "execution_count": null,
   "id": "17ac1764",
   "metadata": {},
   "outputs": [],
   "source": []
  }
 ],
 "metadata": {
  "kernelspec": {
   "display_name": "Python 3 (ipykernel)",
   "language": "python",
   "name": "python3"
  },
  "language_info": {
   "codemirror_mode": {
    "name": "ipython",
    "version": 3
   },
   "file_extension": ".py",
   "mimetype": "text/x-python",
   "name": "python",
   "nbconvert_exporter": "python",
   "pygments_lexer": "ipython3",
   "version": "3.9.5"
  }
 },
 "nbformat": 4,
 "nbformat_minor": 5
}