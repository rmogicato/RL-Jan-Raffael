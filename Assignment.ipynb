{
 "cells": [
  {
   "cell_type": "markdown",
   "metadata": {},
   "source": [
    "# Assignment"
   ]
  },
  {
   "cell_type": "code",
   "execution_count": 1,
   "metadata": {},
   "outputs": [],
   "source": [
    "# Import \n",
    "\n",
    "import numpy as np\n",
    "import numpy.matlib\n",
    "import matplotlib.pyplot as plt\n",
    "from degree_freedom_queen import *\n",
    "from degree_freedom_king1 import *\n",
    "from degree_freedom_king2 import *\n",
    "from generate_game import *\n",
    "from Chess_env import *\n",
    "from tqdm.notebook import tqdm\n",
    "import pandas as pd\n",
    "\n",
    "size_board = 4"
   ]
  },
  {
   "cell_type": "markdown",
   "metadata": {},
   "source": [
    "## The Environment\n",
    "\n",
    "You can find the environment in the file Chess_env, which contains the class Chess_env. To define an object, you need to provide the board size considered as input. In our example, size_board=4. \n",
    "Chess_env is composed by the following methods:\n",
    "\n",
    "1. Initialise_game. The method initialises an episode by placing the three pieces considered (Agent's king and queen, enemy's king) in the chess board. The outputs of the method are described below in order.\n",
    "\n",
    "     S $\\;$ A matrix representing the board locations filled with 4 numbers: 0, no piece in that position; 1, location of the \n",
    "     agent's king; 2 location of the queen; 3 location of the enemy king.\n",
    "     \n",
    "     X $\\;$ The features, that is the input to the neural network. See the assignment for more information regarding the            definition of the features adopted. To personalise this, go into the Features method of the class Chess_env() and change        accordingly.\n",
    "     \n",
    "     allowed_a $\\;$ The allowed actions that the agent can make. The agent is moving a king, with a total number of 8                possible actions, and a queen, with a total number of $(board_{size}-1)\\times 8$ actions. The total number of possible actions correspond      to the sum of the two, but not all actions are allowed in a given position (movements to locations outside the borders or      against chess rules). Thus, the variable allowed_a is a vector that is one (zero) for an action that the agent can (can't)      make. Be careful, apply the policy considered on the actions that are allowed only.\n",
    "     \n",
    "\n",
    "2. OneStep. The method performs a one step update of the system. Given as input the action selected by the agent, it updates the chess board by performing that action and the response of the enemy king (which is a random allowed action in the settings considered). The first three outputs are the same as for the Initialise_game method, but the variables are computed for the position reached after the update of the system. The fourth and fifth outputs are:\n",
    "\n",
    "     R $\\;$ The reward. To change this, look at the OneStep method of the class where the rewards are set.\n",
    "     \n",
    "     Done $\\;$ A variable that is 1 if the episode has ended (checkmate or draw).\n",
    "     \n",
    "     \n",
    "3. Features. Given the chessboard position, the method computes the features.\n",
    "\n",
    "This information and a quick analysis of the class should be all you need to get going. The other functions that the class exploits are uncommented and constitute an example on how not to write a python code. You can take a look at them if you want, but it is not necessary.\n",
    "\n",
    "\n",
    "\n",
    "\n"
   ]
  },
  {
   "cell_type": "code",
   "execution_count": 2,
   "metadata": {},
   "outputs": [],
   "source": [
    "## INITIALISE THE ENVIRONMENT\n",
    "env=Chess_Env(size_board)"
   ]
  },
  {
   "cell_type": "code",
   "execution_count": 5,
   "metadata": {},
   "outputs": [
    {
     "data": {
      "application/vnd.jupyter.widget-view+json": {
       "model_id": "d64c9684b2784dff996cf0bcdd5dc80d",
       "version_major": 2,
       "version_minor": 0
      },
      "text/plain": [
       "HBox(children=(HTML(value=''), FloatProgress(value=0.0, max=10000.0), HTML(value='')))"
      ]
     },
     "metadata": {},
     "output_type": "display_data"
    },
    {
     "name": "stdout",
     "output_type": "stream",
     "text": [
      "\n"
     ]
    }
   ],
   "source": [
    "# INITIALISE THE PARAMETERS OF YOUR NEURAL NETWORK AND...\n",
    "# PLEASE CONSIDER TO USE A MASK OF ONE FOR THE ACTION MADE AND ZERO OTHERWISE IF YOU ARE NOT USING VANILLA GRADIENT DESCENT...\n",
    "# WE SUGGEST A NETWORK WITH ONE HIDDEN LAYER WITH SIZE 200. \n",
    "\n",
    "S,X,allowed_a=env.Initialise_game()\n",
    "N_a = np.shape(allowed_a)[0]   # TOTAL NUMBER OF POSSIBLE ACTIONS\n",
    "\n",
    "N_in = np.shape(X)[0]    ## INPUT SIZE\n",
    "N_h = 200                ## NUMBER OF HIDDEN NODES\n",
    "\n",
    "\n",
    "## INITALISE YOUR NEURAL NETWORK..\n",
    "W1 = np.random.uniform(0,1,(N_h, N_in))\n",
    "W2 = np.random.uniform(0,1,(N_a, N_h))\n",
    "W1 = np.divide(W1,np.matlib.repmat(np.sum(W1,1)[:,None],1,N_in))\n",
    "W2 = np.divide(W2,np.matlib.repmat(np.sum(W2,1)[:,None],1,N_h))\n",
    "\n",
    "bias_W1 = np.zeros((N_h,))\n",
    "bias_W2 = np.zeros((N_a,))\n",
    "\n",
    "# HYPERPARAMETERS SUGGESTED (FOR A GRID SIZE OF 4)\n",
    "\n",
    "epsilon_0 = 0.2     # STARTING VALUE OF EPSILON FOR THE EPSILON-GREEDY POLICY\n",
    "beta = 0.00005      # THE PARAMETER SETS HOW QUICKLY THE VALUE OF EPSILON IS DECAYING (SEE epsilon_f BELOW)\n",
    "gamma = 0.85        # THE DISCOUNT FACTOR\n",
    "eta = 0.0035        # THE LEARNING RATE\n",
    "\n",
    "N_episodes = 10000 # THE NUMBER OF GAMES TO BE PLAYED\n",
    "algorithm = \"Q\"\n",
    "\n",
    "# SAVING VARIABLES\n",
    "R_save = np.zeros(N_episodes)\n",
    "N_moves_save = np.zeros(N_episodes)\n",
    "\n",
    "def predict(x0, W1, W2, bias_W1, bias_W2):\n",
    "    h1 = np.dot(W1, x0) + bias_W1\n",
    "    x1 = 1 / (1 + np.exp(-h1))\n",
    "    h2 = np.dot(W2, x1) + bias_W2\n",
    "    x2 = 1 / (1 + np.exp(-h2))\n",
    "    return x1, x2\n",
    "\n",
    "def backprop(q, q_err, x0, x1, W1, W2, bias_W1, bias_W2):\n",
    "    delta2 = q*(1-q) * q_err\n",
    "    dW2 = np.outer(delta2, x1)\n",
    "    delta1 = x1*(1-x1) * np.dot(W2.T, delta2)\n",
    "    dW1 = np.outer(delta1, x0)\n",
    "    \n",
    "    W1 += eta * dW1\n",
    "    W2 += eta * dW2\n",
    "    bias_W1 += eta * delta1\n",
    "    bias_W2 += eta * delta2\n",
    "    \n",
    "    return W1, W2, bias_W1, bias_W2\n",
    "\n",
    "def policy(allowed_a, q, epsilon_f):\n",
    "    possible_a = np.where(allowed_a==1)[0]\n",
    "    q_a = q[possible_a]\n",
    "    \n",
    "    if np.random.random() < epsilon_f:\n",
    "        return possible_a[np.random.randint(possible_a.size)]\n",
    "    else:\n",
    "        return possible_a[np.argmax(q_a)]\n",
    "\n",
    "for n in tqdm(range(N_episodes)):\n",
    "\n",
    "    epsilon_f = epsilon_0 / (1 + beta * n)\n",
    "    Done = 0\n",
    "    i = 1\n",
    "    \n",
    "    _, X, allowed_a = env.Initialise_game()\n",
    "    \n",
    "    while not Done:\n",
    "        \n",
    "        x1, q = predict(X, W1, W2, bias_W1, bias_W2)\n",
    "        a = policy(allowed_a, q, epsilon_f)\n",
    "\n",
    "        _, Xn, allowed_an, R, Done = env.OneStep(a)\n",
    "\n",
    "        q_err = np.zeros(N_a)\n",
    "        \n",
    "        if Done:\n",
    "            R_save[n] = R\n",
    "            N_moves_save[n] = i\n",
    "            \n",
    "            q_err[a] = R - q[a]\n",
    "        \n",
    "        else:\n",
    "            _, qn = predict(Xn, W1, W2, bias_W1, bias_W2)\n",
    "        \n",
    "            if algorithm == \"Q\":\n",
    "                q_err[a] = (R + gamma * np.max(qn)) - q[a]\n",
    "\n",
    "            elif algorithm == \"Sarsa\":\n",
    "                an = policy(allowed_an, qn, epsilon_f)\n",
    "                q_err[a] = (R + gamma * qn[an]) - q[a]\n",
    "        \n",
    "        W1, W2, bias_W1, bias_W2 = backprop(q, q_err, X, x1, W1, W2, bias_W1, bias_W2)\n",
    "        \n",
    "        X = Xn\n",
    "        allowed_a = allowed_an\n",
    "        i += 1"
   ]
  },
  {
   "cell_type": "code",
   "execution_count": 6,
   "metadata": {},
   "outputs": [
    {
     "data": {
      "image/png": "[encoded data removed]",
      "text/plain": [
       "<Figure size 432x288 with 2 Axes>"
      ]
     },
     "metadata": {
      "needs_background": "light"
     },
     "output_type": "display_data"
    }
   ],
   "source": [
    "def exp_moving_average(data,alpha):\n",
    "\n",
    "    alpha_rev = 1-alpha\n",
    "\n",
    "    scale = 1/alpha_rev\n",
    "    n = data.shape[0]\n",
    "\n",
    "    r = np.arange(n)\n",
    "    scale_arr = scale**r\n",
    "    offset = data[0]*alpha_rev**(r+1)\n",
    "    pw0 = alpha*alpha_rev**(n-1)\n",
    "\n",
    "    mult = data*pw0*scale_arr\n",
    "    cumsums = mult.cumsum()\n",
    "    out = offset + cumsums*scale_arr[::-1]\n",
    "    return out\n",
    "\n",
    "fig, ax1 = plt.subplots()\n",
    "\n",
    "ax1.set_xlabel('Game')\n",
    "ax1.set_ylabel('Reward', color=\"red\")\n",
    "ax1.plot(exp_moving_average(R_save, 1/1000),color=\"red\",label='Reward')\n",
    "ax1.tick_params(axis='y', labelcolor=\"red\")\n",
    "\n",
    "ax2 = ax1.twinx()\n",
    "\n",
    "ax2.set_ylabel('Moves',color=\"blue\")\n",
    "ax2.plot(exp_moving_average(N_moves_save, 1/1000),color=\"blue\",label='Moves')\n",
    "ax2.tick_params(axis='y', labelcolor=\"blue\")\n",
    "\n",
    "lines, labels = ax1.get_legend_handles_labels()\n",
    "lines2, labels2 = ax2.get_legend_handles_labels()\n",
    "ax2.legend(lines + lines2, labels + labels2, loc=0)\n",
    "\n",
    "\n",
    "fig.tight_layout()"
   ]
  },
  {
   "cell_type": "code",
   "execution_count": null,
   "metadata": {},
   "outputs": [],
   "source": []
  }
 ],
 "metadata": {
  "kernelspec": {
   "display_name": "Python 3",
   "language": "python",
   "name": "python3"
  },
  "language_info": {
   "codemirror_mode": {
    "name": "ipython",
    "version": 3
   },
   "file_extension": ".py",
   "mimetype": "text/x-python",
   "name": "python",
   "nbconvert_exporter": "python",
   "pygments_lexer": "ipython3",
   "version": "3.8.6"
  }
 },
 "nbformat": 4,
 "nbformat_minor": 5
}
