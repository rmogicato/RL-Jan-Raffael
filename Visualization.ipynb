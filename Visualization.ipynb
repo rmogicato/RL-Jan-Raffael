{
 "cells": [
  {
   "cell_type": "code",
   "execution_count": 1,
   "metadata": {},
   "outputs": [],
   "source": [
    "import matplotlib.pyplot as plt\n",
    "import numpy as np"
   ]
  },
  {
   "cell_type": "code",
   "execution_count": 2,
   "metadata": {},
   "outputs": [],
   "source": [
    "# https://stackoverflow.com/questions/42869495/numpy-version-of-exponential-weighted-moving-average-equivalent-to-pandas-ewm\n",
    "def exp_moving_average(data,alpha):\n",
    "\n",
    "    alpha_rev = 1-alpha\n",
    "\n",
    "    scale = 1/alpha_rev\n",
    "    n = data.shape[0]\n",
    "\n",
    "    r = np.arange(n)\n",
    "    scale_arr = scale**r\n",
    "    offset = data[0]*alpha_rev**(r+1)\n",
    "    pw0 = alpha*alpha_rev**(n-1)\n",
    "\n",
    "    mult = data*pw0*scale_arr\n",
    "    cumsums = mult.cumsum()\n",
    "    out = offset + cumsums*scale_arr[::-1]\n",
    "    return out\n",
    "\n",
    "def create_avg_plot(data, colors, labels):\n",
    "\n",
    "    for i, (d1, d2, d3) in enumerate(data):\n",
    "        d1 = exp_moving_average(d1, 1 / 1000)\n",
    "        d2 = exp_moving_average(d2, 1 / 1000)\n",
    "        d3 = exp_moving_average(d3, 1 / 1000)\n",
    "        minimum = np.minimum.reduce([d1, d2, d3])\n",
    "        maximum = np.maximum.reduce([d1, d2, d3])\n",
    "        mean = (d1 + d2 + d3) / 3\n",
    "\n",
    "        plt.plot(mean, color = colors[i],label = labels[i])\n",
    "        plt.fill_between(np.linspace(0, len(d1), len(d1)), minimum, maximum, color = colors[i], alpha = 0.4)\n",
    "        plt.legend(loc=\"upper left\")\n",
    "    \n",
    "    plt.show()"
   ]
  },
  {
   "cell_type": "code",
   "execution_count": 3,
   "metadata": {},
   "outputs": [
    {
     "data": {
      "image/png": "[encoded data removed]",
      "text/plain": [
       "<Figure size 432x288 with 1 Axes>"
      ]
     },
     "metadata": {
      "needs_background": "light"
     },
     "output_type": "display_data"
    }
   ],
   "source": [
    "with open(\"R_q_er_mb1.npy\", \"rb\") as f:\n",
    "    R1 = np.load(f, allow_pickle=True)\n",
    "\n",
    "with open(\"R_q_er_mb2.npy\", \"rb\") as f:\n",
    "    R2 = np.load(f, allow_pickle=True)\n",
    "\n",
    "with open(\"R_q_er_mb3.npy\", \"rb\") as f:\n",
    "    R3 = np.load(f, allow_pickle=True)\n",
    "\n",
    "data = [(R1, R2, R3)]\n",
    "colors = [\"r\"]\n",
    "labels = [\"Reward 1\"]\n",
    "\n",
    "create_avg_plot(data, colors, labels)"
   ]
  },
  {
   "cell_type": "code",
   "execution_count": null,
   "metadata": {},
   "outputs": [],
   "source": []
  }
 ],
 "metadata": {
  "kernelspec": {
   "display_name": "Python 3",
   "language": "python",
   "name": "python3"
  },
  "language_info": {
   "codemirror_mode": {
    "name": "ipython",
    "version": 3
   },
   "file_extension": ".py",
   "mimetype": "text/x-python",
   "name": "python",
   "nbconvert_exporter": "python",
   "pygments_lexer": "ipython3",
   "version": "3.8.6"
  }
 },
 "nbformat": 4,
 "nbformat_minor": 4
}
